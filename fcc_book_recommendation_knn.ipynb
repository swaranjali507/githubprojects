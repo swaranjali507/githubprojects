{
  "cells": [
    {
      "cell_type": "code",
      "execution_count": 1,
      "metadata": {
        "id": "Y1onB6kUvo4Z",
        "colab": {
          "base_uri": "https://localhost:8080/"
        },
        "outputId": "11332689-8557-4b1a-f9c0-738b492eb398"
      },
      "outputs": [
        {
          "output_type": "stream",
          "name": "stdout",
          "text": [
            "--2025-06-20 11:24:36--  http://www2.informatik.uni-freiburg.de/~cziegler/BX/BX-CSV-Dump.zip\n",
            "Resolving www2.informatik.uni-freiburg.de (www2.informatik.uni-freiburg.de)... 132.230.105.133\n",
            "Connecting to www2.informatik.uni-freiburg.de (www2.informatik.uni-freiburg.de)|132.230.105.133|:80... connected.\n",
            "HTTP request sent, awaiting response... 404 Not Found\n",
            "2025-06-20 11:24:37 ERROR 404: Not Found.\n",
            "\n",
            "Archive:  BX-CSV-Dump.zip\n",
            "  End-of-central-directory signature not found.  Either this file is not\n",
            "  a zipfile, or it constitutes one disk of a multi-part archive.  In the\n",
            "  latter case the central directory and zipfile comment will be found on\n",
            "  the last disk(s) of this archive.\n",
            "unzip:  cannot find zipfile directory in one of BX-CSV-Dump.zip or\n",
            "        BX-CSV-Dump.zip.zip, and cannot find BX-CSV-Dump.zip.ZIP, period.\n"
          ]
        }
      ],
      "source": [
        "# import libraries (you may add additional imports but you may not have to)\n",
        "import numpy as np\n",
        "import pandas as pd\n",
        "from scipy.sparse import csr_matrix\n",
        "from sklearn.neighbors import NearestNeighbors\n",
        "import matplotlib.pyplot as plt\n",
        "# Download and unzip the Book-Crossing dataset\n",
        "!wget -O BX-CSV-Dump.zip http://www2.informatik.uni-freiburg.de/~cziegler/BX/BX-CSV-Dump.zip\n",
        "!unzip -o BX-CSV-Dump.zip\n"
      ]
    },
    {
      "cell_type": "code",
      "execution_count": 5,
      "metadata": {
        "id": "iAQGqqO_vo4d",
        "colab": {
          "base_uri": "https://localhost:8080/"
        },
        "outputId": "c7e845f7-6e05-417c-c166-d88f1a307649"
      },
      "outputs": [
        {
          "output_type": "stream",
          "name": "stdout",
          "text": [
            "--2025-06-20 11:31:56--  https://cdn.freecodecamp.org/project-data/books/book-crossings.zip\n",
            "Resolving cdn.freecodecamp.org (cdn.freecodecamp.org)... 104.26.2.33, 104.26.3.33, 172.67.70.149, ...\n",
            "Connecting to cdn.freecodecamp.org (cdn.freecodecamp.org)|104.26.2.33|:443... connected.\n",
            "HTTP request sent, awaiting response... 200 OK\n",
            "Length: 26085508 (25M) [application/zip]\n",
            "Saving to: ‘book-crossings.zip.3’\n",
            "\n",
            "book-crossings.zip. 100%[===================>]  24.88M  40.2MB/s    in 0.6s    \n",
            "\n",
            "2025-06-20 11:31:57 (40.2 MB/s) - ‘book-crossings.zip.3’ saved [26085508/26085508]\n",
            "\n",
            "Archive:  book-crossings.zip\n",
            "replace BX-Book-Ratings.csv? [y]es, [n]o, [A]ll, [N]one, [r]ename: "
          ]
        },
        {
          "output_type": "stream",
          "name": "stderr",
          "text": [
            "/tmp/ipython-input-5-917554458.py:11: DtypeWarning: Columns (3) have mixed types. Specify dtype option on import or set low_memory=False.\n",
            "  books = pd.read_csv('BX-Books.csv', sep=';', encoding='latin-1', on_bad_lines='skip')\n"
          ]
        }
      ],
      "source": [
        "# get data files\n",
        "!wget https://cdn.freecodecamp.org/project-data/books/book-crossings.zip\n",
        "\n",
        "!unzip -o book-crossings.zip > /dev/null\n",
        "books_filename = 'BX-Books.csv'\n",
        "ratings_filename = 'BX-Book-Ratings.csv'\n",
        "import pandas as pd\n",
        "\n",
        "# Load datasets with proper encoding and delimiter\n",
        "books = pd.read_csv('BX-Books.csv', sep=';', encoding='latin-1', on_bad_lines='skip')\n",
        "ratings = pd.read_csv('BX-Book-Ratings.csv', sep=';', encoding='latin-1', on_bad_lines='skip')\n",
        "users = pd.read_csv('BX-Users.csv', sep=';', encoding='latin-1', on_bad_lines='skip')\n"
      ]
    },
    {
      "cell_type": "code",
      "execution_count": 7,
      "metadata": {
        "id": "NClILWOiEd6Q"
      },
      "outputs": [],
      "source": [
        "# Standardized load with proper column renaming and types\n",
        "\n",
        "df_books = pd.read_csv(\n",
        "    'BX-Books.csv',\n",
        "    sep=';',\n",
        "    encoding='latin-1',\n",
        "    on_bad_lines='skip',\n",
        "    usecols=['ISBN', 'Book-Title', 'Book-Author'],\n",
        "    dtype=str\n",
        ")\n",
        "df_books.columns = ['isbn', 'title', 'author']\n",
        "\n",
        "df_ratings = pd.read_csv(\n",
        "    'BX-Book-Ratings.csv',\n",
        "    sep=';',\n",
        "    encoding='latin-1',\n",
        "    on_bad_lines='skip',\n",
        "    usecols=['User-ID', 'ISBN', 'Book-Rating'],\n",
        "    dtype={'User-ID': int, 'ISBN': str, 'Book-Rating': float}\n",
        ")\n",
        "df_ratings.columns = ['user', 'isbn', 'rating']\n"
      ]
    },
    {
      "cell_type": "code",
      "source": [
        "print(\"Total ratings:\", df_ratings.shape[0])\n",
        "print(\"Unique users:\", df_ratings['user'].nunique())\n",
        "print(\"Unique books in ratings:\", df_ratings['isbn'].nunique())\n",
        "print(\"Unique books in books file:\", df_books['isbn'].nunique())\n"
      ],
      "metadata": {
        "colab": {
          "base_uri": "https://localhost:8080/"
        },
        "id": "iBxA-J3pszzn",
        "outputId": "77bce926-298c-4d23-d89f-fcf7fef9ef3f"
      },
      "execution_count": 8,
      "outputs": [
        {
          "output_type": "stream",
          "name": "stdout",
          "text": [
            "Total ratings: 1149780\n",
            "Unique users: 105283\n",
            "Unique books in ratings: 340556\n",
            "Unique books in books file: 271379\n"
          ]
        }
      ]
    },
    {
      "cell_type": "code",
      "execution_count": 9,
      "metadata": {
        "id": "xAcXjkCFCh0A",
        "colab": {
          "base_uri": "https://localhost:8080/"
        },
        "outputId": "23b7a307-ad8e-4a44-a2f2-ca10a0315fda"
      },
      "outputs": [
        {
          "output_type": "stream",
          "name": "stdout",
          "text": [
            "Users after filtering: 21915\n",
            "Books after filtering: 39702\n"
          ]
        }
      ],
      "source": [
        "# Filter: users with at least 5 ratings\n",
        "user_counts = df_ratings['user'].value_counts()\n",
        "df_ratings = df_ratings[df_ratings['user'].isin(user_counts[user_counts >= 5].index)]\n",
        "\n",
        "# Filter: books with at least 5 ratings\n",
        "book_counts = df_ratings['isbn'].value_counts()\n",
        "df_ratings = df_ratings[df_ratings['isbn'].isin(book_counts[book_counts >= 5].index)]\n",
        "\n",
        "# Print counts\n",
        "print(\"Users after filtering:\", df_ratings['user'].nunique())\n",
        "print(\"Books after filtering:\", df_ratings['isbn'].nunique())\n"
      ]
    },
    {
      "cell_type": "code",
      "execution_count": 10,
      "metadata": {
        "id": "f5ZUd-L1SQz7",
        "colab": {
          "base_uri": "https://localhost:8080/"
        },
        "outputId": "fde183c1-ff70-429d-ee18-beb47c18ba05"
      },
      "outputs": [
        {
          "output_type": "stream",
          "name": "stdout",
          "text": [
            "Users after filtering: 16009\n",
            "Books after filtering: 38190\n"
          ]
        }
      ],
      "source": [
        "# Use minimal filtering so we don't lose all data\n",
        "user_counts = df_ratings['user'].value_counts()\n",
        "df_ratings = df_ratings[df_ratings['user'].isin(user_counts[user_counts >= 5].index)]\n",
        "\n",
        "book_counts = df_ratings['isbn'].value_counts()\n",
        "df_ratings = df_ratings[df_ratings['isbn'].isin(book_counts[book_counts >= 5].index)]\n",
        "\n",
        "# Print the count after filtering\n",
        "print(\"Users after filtering:\", df_ratings['user'].nunique())\n",
        "print(\"Books after filtering:\", df_ratings['isbn'].nunique())\n"
      ]
    },
    {
      "cell_type": "code",
      "execution_count": 11,
      "metadata": {
        "id": "jd2SLCh8oxMh",
        "colab": {
          "base_uri": "https://localhost:8080/"
        },
        "outputId": "19cc7c35-2a81-4951-a1b5-54db65d23047"
      },
      "outputs": [
        {
          "output_type": "stream",
          "name": "stdout",
          "text": [
            "Pivot shape: (32194, 15998)\n"
          ]
        }
      ],
      "source": [
        "# Merge with books\n",
        "merged_df = pd.merge(df_ratings, df_books, on='isbn')\n",
        "\n",
        "# Create pivot table (Book × User matrix)\n",
        "book_pivot = merged_df.pivot_table(index='title', columns='user', values='rating').fillna(0)\n",
        "\n",
        "# Print shape\n",
        "print(\"Pivot shape:\", book_pivot.shape)\n",
        "\n",
        "# Convert to sparse matrix\n",
        "from scipy.sparse import csr_matrix\n",
        "book_matrix = csr_matrix(book_pivot.values)\n"
      ]
    },
    {
      "cell_type": "code",
      "source": [
        "from sklearn.neighbors import NearestNeighbors\n",
        "\n",
        "# Fit the KNN model using cosine similarity\n",
        "model = NearestNeighbors(metric='cosine', algorithm='brute')\n",
        "model.fit(book_matrix)\n",
        "\n",
        "# Save the list of book titles\n",
        "book_titles = list(book_pivot.index)\n",
        "\n",
        "# Define the recommendation function\n",
        "def get_recommends(book_title):\n",
        "    if book_title not in book_pivot.index:\n",
        "        return [book_title, []]\n",
        "\n",
        "    book_idx = book_titles.index(book_title)\n",
        "    distances, indices = model.kneighbors(book_pivot.iloc[book_idx, :].values.reshape(1, -1), n_neighbors=6)\n",
        "\n",
        "    recommended_books = []\n",
        "    for i in range(1, len(distances[0])):  # skip the first (it’s the book itself)\n",
        "        recommended_books.append([book_titles[indices[0][i]], distances[0][i]])\n",
        "\n",
        "    return [book_title, recommended_books]\n"
      ],
      "metadata": {
        "id": "FOy3vL-pqEup"
      },
      "execution_count": 12,
      "outputs": []
    },
    {
      "cell_type": "code",
      "source": [
        "book_titles[:50]\n",
        "\n",
        "\n",
        "\n"
      ],
      "metadata": {
        "colab": {
          "base_uri": "https://localhost:8080/"
        },
        "id": "shqIXTGetqvm",
        "outputId": "07742b49-d3fc-4de6-f308-68c50ffbd8f8"
      },
      "execution_count": 21,
      "outputs": [
        {
          "output_type": "execute_result",
          "data": {
            "text/plain": [
              "[' Earth Prayers From around the World: 365 Prayers, Poems, and Invocations for Honoring the Earth',\n",
              " ' Good Wives: Image and Reality in the Lives of Women in Northern New England, 1650-1750',\n",
              " ' Goosebumps Monster Edition 1: Welcome to Dead House, Stay Out of the Basement, and Say Cheese and Die!',\n",
              " ' Murder of a Sleeping Beauty (Scumble River Mysteries (Paperback))',\n",
              " ' Q-Space (Star Trek The Next Generation, Book 47)',\n",
              " ' Q-Zone (Star Trek The Next Generation, Book 48)',\n",
              " ' This Place Has No Atmosphere (Laurel-Leaf Books)',\n",
              " '!Yo!',\n",
              " '$14 In The Bank (Cathy Collection)',\n",
              " \"'A Hell of a Place to Lose a Cow': An American Hitchhiking Odyssey\",\n",
              " \"'Salem's Lot\",\n",
              " \"'The Moon by Whale Light: And Other Adventures Among Bats, Penguins, Crocodilians, and Whales\",\n",
              " \"'Tis Herself : A Memoir\",\n",
              " \"'Tis The Season (Christmas Anthology): Under the Mistletoe/A Baby for Christmas/Christmas Angel/Home for Christmas\",\n",
              " '...AND THE HORSE HE RODE IN ON : THE PEOPLE V. KENNETH STARR',\n",
              " '...Sacrifice of Angels:  The Dominion War Book 4 (Star Trek Deep Space Nine)',\n",
              " '.Hack: //Legend of the Twilight, Vol. 1',\n",
              " '.Hack: //Legend of the Twilight, Vol. 2',\n",
              " '01-01-00: A Novel of the Millennium',\n",
              " '01-01-00: The Novel of the Millennium',\n",
              " '0373953194 Christmas Stories 1993',\n",
              " '1,000 More Jokes for Kids',\n",
              " '1,000 Places to See Before You Die',\n",
              " '1,001 Old-Time Garden Tips: Timeless Bits of Wisdom on How to Grow Everything Organically, from the Good Old Days When Everyone Did',\n",
              " '1,401 More Things That P*Ss Me Off',\n",
              " '1,911 Best Things Anybody Ever Said',\n",
              " '1-2-3 Magic: Effective Discipline for Children 2-12',\n",
              " '10 Lb. Penalty',\n",
              " '100 Best-Loved Poems (Dover Thrift Editions)',\n",
              " '100 Great Fantasy Short, Short Stories',\n",
              " '100 Great Science Fiction Short Short Stories',\n",
              " '100 Hilarious Little Howlers',\n",
              " '100 Malicious Little Mysteries',\n",
              " '100 Questions Every First-Time Home Buyer Should Ask : With Answers from Top Brokers from Around the Country',\n",
              " '100 Selected Poems by E. E. Cummings',\n",
              " '100 Selected Stories (Wordsworth Classics)',\n",
              " '1001 More Ways to Be Romantic',\n",
              " '1001 Things Everyone Should Know About Science',\n",
              " '1001 Ways to Be Romantic',\n",
              " '1001 Ways to Cut Your Expenses',\n",
              " '1001 Ways to Save Money ... and Still Have a Dazzling Wedding',\n",
              " '101 Back to School Jokes',\n",
              " '101 Best Home-Based Businesses for Women',\n",
              " '101 Bug Jokes',\n",
              " '101 Cat and Dog Jokes',\n",
              " '101 Creepy Creature Jokes',\n",
              " '101 Dalmatians',\n",
              " '101 Dalmatians: Proud to Be a Pup',\n",
              " '101 Essential Tips on Photography (101 Essential Tips)',\n",
              " '101 Full-Size Quilt Blocks and Borders']"
            ]
          },
          "metadata": {},
          "execution_count": 21
        }
      ]
    },
    {
      "cell_type": "code",
      "source": [
        "get_recommends(\"101 Bug Jokes\")\n"
      ],
      "metadata": {
        "colab": {
          "base_uri": "https://localhost:8080/"
        },
        "id": "3Df7LDMTL55U",
        "outputId": "baa3d7ba-6548-404a-cb5b-5187d8eae4bc"
      },
      "execution_count": 23,
      "outputs": [
        {
          "output_type": "execute_result",
          "data": {
            "text/plain": [
              "['101 Bug Jokes',\n",
              " [['Hard Fall', np.float64(0.36073656523925013)],\n",
              "  ['Slowing Down to the Speed of Life: How to Create a More Peaceful, Simpler Life from the Inside Out',\n",
              "   np.float64(0.38605938648507954)],\n",
              "  ['Return of the Straight Dope', np.float64(0.38605938648507954)],\n",
              "  ['Mr. Paradise:  A Novel', np.float64(0.408520011648551)],\n",
              "  ['The Seven Daughters of Eve: The Science That Reveals Our Genetic Ancestry',\n",
              "   np.float64(0.4159401458814752)]]]"
            ]
          },
          "metadata": {},
          "execution_count": 23
        }
      ]
    }
  ],
  "metadata": {
    "colab": {
      "name": "fcc_book_recommendation_knn.ipynb",
      "provenance": []
    },
    "kernelspec": {
      "display_name": "Python 3",
      "language": "python",
      "name": "python3"
    },
    "language_info": {
      "codemirror_mode": {
        "name": "ipython",
        "version": 3
      },
      "file_extension": ".py",
      "mimetype": "text/x-python",
      "name": "python",
      "nbconvert_exporter": "python",
      "pygments_lexer": "ipython3",
      "version": "3.6.5"
    }
  },
  "nbformat": 4,
  "nbformat_minor": 0
}